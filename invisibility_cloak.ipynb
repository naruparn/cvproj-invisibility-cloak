{
 "cells": [
  {
   "attachments": {},
   "cell_type": "markdown",
   "metadata": {},
   "source": [
    "## **Invisibility Cloak**\n",
    "Project idea: https://harshilp.medium.com/invisibility-cloak-using-opencv-8b07142c83d6\n",
    "\n",
    "This simple project aims to imitate the effects of invisibility cloak (like in Harry Potter). The technique that will be used is opposite to the Green Screening. In green screening, we remove background but here we will remove the foreground frame.\n",
    "\n",
    "1. Capture and store the background frame\n",
    "2. Detect the defined color using color detection and segmentation algorithm.\n",
    "3. Segment out the defined colored part by generating a mask.\n",
    "4. Generate the final augmented output to create a magical effect. [ output as .avi file ]"
   ]
  },
  {
   "cell_type": "code",
   "execution_count": 5,
   "metadata": {},
   "outputs": [],
   "source": [
    "# import necessary libraries\n",
    "import cv2\n",
    "import time\n",
    "import numpy as np\n",
    "\n",
    "import matplotlib.pyplot as plt"
   ]
  },
  {
   "attachments": {},
   "cell_type": "markdown",
   "metadata": {},
   "source": [
    "The HSV value of the color will be updated accordingly.\n",
    "### **Hue Saturation Value**\n",
    "### **H : Hue**\n",
    "Hue is the colour portion of the model, expressed as a number from 0 to 360 degrees:\n",
    "\n",
    "- Red falls between 0 and 60 degrees.\n",
    "- Yellow falls between 61 and 120 degrees.\n",
    "- Green falls between 121–180 degrees.\n",
    "- Cyan falls between 181–240 degrees.\n",
    "- Blue falls between 241–300 degrees.\n",
    "- Magenta falls between 301–360 degrees.\n",
    "\n",
    "### **S : Saturation**\n",
    "Saturation describes the amount of grey in a particular colour, from 0 to 100 percent. Reducing this component toward zero introduces more grey and produces a faded effect. Sometimes, saturation appears as a range from just 0–1, where 0 is grey, and 1 is a primary colour.\n",
    "\n",
    "### **V : Value (Brightness)**\n",
    "Value works in conjunction with saturation and describes the brightness or intensity of the colour, from 0–100 percent, where 0 is completely black, and 100 is the brightest and reveals the most colour.\n"
   ]
  },
  {
   "attachments": {},
   "cell_type": "markdown",
   "metadata": {},
   "source": [
    "### **Steps**\n",
    "1. Recording and caching the background for each frame\n",
    "2. Detecting the define color portion in each frame\n",
    "3. Replacing the red portion with a mask image in each frame"
   ]
  },
  {
   "cell_type": "code",
   "execution_count": 9,
   "metadata": {},
   "outputs": [],
   "source": [
    "## 1.\n",
    "# Reading video feed from webcam\n",
    "cap = cv2.VideoCapture(0) # default channel\n",
    "\n",
    "# Automatically grab width and height from video feed\n",
    "# (returns float which we need to convert to integer for later on!)\n",
    "width = int(cap.get(cv2.CAP_PROP_FRAME_WIDTH))\n",
    "height = int(cap.get(cv2.CAP_PROP_FRAME_HEIGHT))\n",
    "\n",
    "# Preparation for writing output video\n",
    "fourcc = cv2.VideoWriter_fourcc(*'DIVX') # 'DIVX' for Windows\n",
    "writer = cv2.VideoWriter('invisibility_cloak.avi',fourcc,20,(width,height))\n",
    "\n",
    "# Allow system to sleep for 3 seconds before the webcam starts\n",
    "time.sleep(3)\n",
    "count = 0\n",
    "background = 0\n",
    "\n",
    "# Capture the bacground in range of 60\n",
    "for i in range(60):\n",
    "    ret, background = cap.read()\n",
    "background = np.flip(background, axis=1)\n",
    "\n",
    "## 2.\n",
    "\n",
    "# Read every frame from the webcam, until the camera is open\n",
    "while(cap.isOpened()):\n",
    "    ret, frame = cap.read()\n",
    "    if not ret: # no frame retrieved\n",
    "        break\n",
    "\n",
    "    count += 1\n",
    "    frame = np.flip(frame, axis=1)\n",
    "\n",
    "    # Convert color space from BGR (OpenCV default) to HSV\n",
    "    hsv = cv2.cvtColor(frame, cv2.COLOR_BGR2HSV)\n",
    "\n",
    "    # Generate masks to detect specific color (in this case red)\n",
    "    lower_bound = np.array([0, 125, 50])\n",
    "    upper_bound = np.array([10, 255, 255])\n",
    "    mask1 = cv2.inRange(hsv, lower_bound, upper_bound) # Checks for parts of hsv img that lie between range of lower and upper red.\n",
    "\n",
    "    lower_bound = np.array([170, 120, 70])\n",
    "    upper_bound = np.array([180, 255, 255])\n",
    "    mask2 = cv2.inRange(hsv, lower_bound, upper_bound)\n",
    "\n",
    "    mask1 = mask1 + mask2\n",
    "\n",
    "## 3.\n",
    "\n",
    "    # Open and Dilate the mask image\n",
    "    mask_morph = cv2.morphologyEx(mask1, cv2.MORPH_OPEN, np.ones((3,3), np.uint8)) # removes noise (erosion => dilation)\n",
    "    mask_morph = cv2.morphologyEx(mask1, cv2.MORPH_DILATE, np.ones((3,3), np.uint8)) # expand mask\n",
    "\n",
    "    # Create an inverted mask to segment out red color from the frame\n",
    "    mask_inv = cv2.bitwise_not(mask_morph)\n",
    "\n",
    "    # Segment the red color part out of the grame using bitwise_and with the inverted mask\n",
    "    res1 = cv2.bitwise_and(frame, frame, mask=mask_inv)\n",
    "\n",
    "    # Create image showing static background grame pixels only for masked region\n",
    "    res2 = cv2.bitwise_and(background, background, mask=mask_morph)\n",
    "\n",
    "    # Generate final output and write\n",
    "    final_output = cv2.addWeighted(src1=res1, alpha=1, src2=res2, beta=1, gamma=0) # blend 2 image\n",
    "    writer.write(final_output)\n",
    "    cv2.imshow(\"invisibility_cloak\", final_output)\n",
    "\n",
    "    # Quit with the \"q\" button on a keyboard.\n",
    "    if cv2.waitKey(1) & 0xFF == ord('q'):\n",
    "        break\n",
    "\n",
    "cap.release()\n",
    "writer.release()\n",
    "cv2.destroyAllWindows()"
   ]
  },
  {
   "cell_type": "code",
   "execution_count": 15,
   "metadata": {},
   "outputs": [],
   "source": [
    "# plt.imshow(mask1, cmap='gray')"
   ]
  },
  {
   "cell_type": "code",
   "execution_count": 14,
   "metadata": {},
   "outputs": [],
   "source": [
    "# plt.imshow(mask2, cmap='gray')"
   ]
  }
 ],
 "metadata": {
  "kernelspec": {
   "display_name": "base",
   "language": "python",
   "name": "python3"
  },
  "language_info": {
   "codemirror_mode": {
    "name": "ipython",
    "version": 3
   },
   "file_extension": ".py",
   "mimetype": "text/x-python",
   "name": "python",
   "nbconvert_exporter": "python",
   "pygments_lexer": "ipython3",
   "version": "3.8.16"
  },
  "orig_nbformat": 4
 },
 "nbformat": 4,
 "nbformat_minor": 2
}
